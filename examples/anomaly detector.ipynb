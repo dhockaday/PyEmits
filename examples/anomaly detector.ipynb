{
 "cells": [
  {
   "cell_type": "code",
   "execution_count": 1,
   "id": "5806dba0-3d80-4d48-8f09-187080238bff",
   "metadata": {},
   "outputs": [],
   "source": [
    "import pandas as pd \n",
    "import numpy as np "
   ]
  },
  {
   "cell_type": "code",
   "execution_count": 2,
   "id": "7a946e5e-88fe-410f-a613-4b3fa4464aec",
   "metadata": {},
   "outputs": [],
   "source": [
    "import os \n",
    "os.chdir('..')"
   ]
  },
  {
   "cell_type": "code",
   "execution_count": 3,
   "id": "29c11389-b087-4092-a427-d8a7e957fac5",
   "metadata": {},
   "outputs": [],
   "source": [
    "from pyod.utils import generate_data"
   ]
  },
  {
   "cell_type": "code",
   "execution_count": 4,
   "id": "19ae6d80-6592-484e-945a-e8a14a93e1be",
   "metadata": {},
   "outputs": [],
   "source": [
    "from pyemits.core.ml.anomaly_detection.trainer import AnomalyTrainer, AnomalyDataModel, PyodWrapper"
   ]
  },
  {
   "cell_type": "code",
   "execution_count": 5,
   "id": "3577399c-42ee-4192-bbe7-b7175b323b3f",
   "metadata": {},
   "outputs": [],
   "source": [
    "from pyod.models.lof import LOF\n",
    "from pyod.models.cof import COF\n",
    "from pyod.models.iforest import IForest\n"
   ]
  },
  {
   "cell_type": "code",
   "execution_count": 6,
   "id": "b8e8b67f-b97f-45d2-b966-3a31dcfd45bd",
   "metadata": {},
   "outputs": [
    {
     "name": "stderr",
     "output_type": "stream",
     "text": [
      "/Users/kinshingwong/Library/Caches/pypoetry/virtualenvs/pyemits-BM0BzTys-py3.8/lib/python3.8/site-packages/pyod/utils/data.py:186: FutureWarning: behaviour=\"old\" is deprecated and will be removed in version 0.9.0. Please use behaviour=\"new\", which makes the returned datasets in the order of X_train, X_test, y_train, y_test.\n",
      "  warn('behaviour=\"old\" is deprecated and will be removed '\n"
     ]
    }
   ],
   "source": [
    "contamination = 0.1  # percentage of outliers\n",
    "n_train = 1000  # number of training points\n",
    "n_test = 200  # number of testing points\n",
    "\n",
    "X_train, y_train, X_test, y_test = generate_data(\n",
    "    n_train=n_train, n_test=n_test, contamination=contamination)"
   ]
  },
  {
   "cell_type": "markdown",
   "id": "f782d840-cd87-44af-ae8c-32d67e116b70",
   "metadata": {},
   "source": [
    "# Detector Training"
   ]
  },
  {
   "cell_type": "markdown",
   "id": "f7717bb5-3965-431b-97f7-8ae9f14ce46f",
   "metadata": {},
   "source": [
    "followings are acceptable:\n",
    "\n",
    "> str\n",
    "\n",
    "> PyodWrapper without model initialization\n",
    "\n",
    "> PyodWrapper with model initialization are acceptable"
   ]
  },
  {
   "cell_type": "code",
   "execution_count": 7,
   "id": "a9be795e-d35e-4ffa-ac16-63aa396918ee",
   "metadata": {},
   "outputs": [],
   "source": [
    "detector = AnomalyTrainer(['IForest', PyodWrapper(IForest()),PyodWrapper(IForest),'IForest','IForest' ,'IForest'],None, AnomalyDataModel(X_train))\n"
   ]
  },
  {
   "cell_type": "code",
   "execution_count": 37,
   "id": "6f201bed-b8f1-4f45-a316-66d518393c9d",
   "metadata": {},
   "outputs": [],
   "source": [
    "from pyemits.common.config_model import PyodIforestConfig\n",
    "detector = AnomalyTrainer([PyodWrapper(IForest(contamination=0.05)),PyodWrapper(IForest)],[None, PyodIforestConfig(contamination=0.05)] , AnomalyDataModel(X_train))\n"
   ]
  },
  {
   "cell_type": "code",
   "execution_count": 38,
   "id": "1c9e01b4-f1ff-4d6f-a7f2-55b861020607",
   "metadata": {},
   "outputs": [],
   "source": [
    "detector.fit()"
   ]
  },
  {
   "cell_type": "code",
   "execution_count": 39,
   "id": "fdd4c065-1b02-4521-9033-8c039cb66fa0",
   "metadata": {},
   "outputs": [
    {
     "data": {
      "text/plain": [
       "SliceableDeque([('PyodWrapper_None',\n",
       "                 <pyemits.core.ml.anomaly_detection.trainer.PyodWrapper at 0x7f9ad203c5b0>),\n",
       "                ('PyodWrapper_None',\n",
       "                 <pyemits.core.ml.anomaly_detection.trainer.PyodWrapper at 0x7f9ad20396a0>)])"
      ]
     },
     "execution_count": 39,
     "metadata": {},
     "output_type": "execute_result"
    }
   ],
   "source": [
    "detector.clf_models"
   ]
  },
  {
   "cell_type": "markdown",
   "id": "02a62f63-7a07-4d1a-8f54-0f3f8acaa69f",
   "metadata": {},
   "source": [
    "# detector Prediction"
   ]
  },
  {
   "cell_type": "code",
   "execution_count": 40,
   "id": "300e1284-0f94-4801-af42-e1c2b8bda3cf",
   "metadata": {},
   "outputs": [],
   "source": [
    "from pyemits.core.ml.anomaly_detection.predictor import AnomalyPredictor"
   ]
  },
  {
   "cell_type": "markdown",
   "id": "b074c9dd-3384-4eb4-97f9-394fb718e3d1",
   "metadata": {},
   "source": [
    "### no existing standard scaler"
   ]
  },
  {
   "cell_type": "code",
   "execution_count": 41,
   "id": "bd2b0c0e-f310-4061-80c8-331020211d51",
   "metadata": {},
   "outputs": [
    {
     "name": "stdout",
     "output_type": "stream",
     "text": [
      "creating new standard scaler\n"
     ]
    },
    {
     "data": {
      "text/plain": [
       "array([0, 0, 0, 0, 0, 0, 0, 0, 0, 0, 0, 0, 0, 0, 0, 0, 0, 0, 0, 0, 0, 0,\n",
       "       0, 0, 0, 0, 0, 0, 0, 0, 0, 0, 0, 0, 0, 0, 0, 0, 0, 0, 0, 0, 0, 0,\n",
       "       0, 0, 0, 0, 0, 0, 0, 0, 0, 0, 0, 0, 0, 0, 0, 0, 0, 0, 0, 0, 0, 0,\n",
       "       0, 0, 0, 0, 0, 0, 0, 0, 0, 0, 0, 0, 0, 0, 0, 0, 0, 0, 0, 0, 0, 0,\n",
       "       0, 0, 0, 0, 0, 0, 0, 0, 0, 0, 0, 0, 0, 0, 0, 0, 0, 0, 0, 0, 0, 0,\n",
       "       0, 0, 0, 0, 0, 0, 0, 0, 0, 0, 0, 0, 0, 0, 0, 0, 0, 0, 0, 0, 0, 0,\n",
       "       0, 0, 0, 0, 0, 0, 0, 0, 0, 0, 0, 0, 0, 0, 0, 0, 0, 0, 0, 0, 0, 0,\n",
       "       0, 0, 0, 0, 0, 0, 0, 0, 0, 0, 0, 0, 0, 0, 0, 0, 0, 0, 0, 0, 0, 0,\n",
       "       0, 0, 0, 0, 1, 0, 0, 0, 1, 1, 0, 0, 1, 0, 1, 1, 0, 1, 0, 1, 0, 0,\n",
       "       1, 1])"
      ]
     },
     "execution_count": 41,
     "metadata": {},
     "output_type": "execute_result"
    }
   ],
   "source": [
    "\n",
    "predictor = AnomalyPredictor(detector.clf_models)\n",
    "predictor.predict(AnomalyDataModel(X_test))"
   ]
  },
  {
   "cell_type": "markdown",
   "id": "263f83e1-66ee-4147-8e67-428ec2332701",
   "metadata": {},
   "source": [
    "### passing existing standard scaler"
   ]
  },
  {
   "cell_type": "code",
   "execution_count": 25,
   "id": "8fb460fc-6ced-4cd5-83c3-4b88ed1dd73b",
   "metadata": {},
   "outputs": [],
   "source": [
    "predictor = AnomalyPredictor(detector.clf_models, other_config={'standard_scaler': predictor.misc_container['standard_scaler']})"
   ]
  },
  {
   "cell_type": "code",
   "execution_count": 26,
   "id": "76aeaf0a-4a72-4944-98c9-025f55a1ac55",
   "metadata": {},
   "outputs": [
    {
     "data": {
      "text/plain": [
       "array([0, 0, 0, 0, 0, 0, 0, 0, 0, 0, 0, 0, 0, 0, 0, 0, 0, 0, 0, 0, 0, 0,\n",
       "       0, 0, 0, 0, 0, 0, 0, 0, 0, 0, 0, 0, 0, 0, 0, 0, 0, 0, 0, 0, 0, 0,\n",
       "       0, 0, 0, 0, 0, 0, 0, 0, 0, 0, 0, 0, 0, 0, 0, 0, 0, 0, 0, 0, 0, 0,\n",
       "       0, 0, 0, 0, 0, 0, 0, 0, 0, 0, 0, 0, 0, 0, 0, 0, 0, 0, 0, 0, 0, 0,\n",
       "       0, 0, 0, 0, 0, 0, 0, 0, 0, 0, 0, 0, 0, 0, 0, 0, 0, 0, 0, 0, 0, 0,\n",
       "       0, 0, 0, 0, 0, 0, 0, 0, 0, 0, 0, 0, 0, 0, 0, 0, 0, 0, 0, 0, 0, 0,\n",
       "       0, 0, 0, 0, 0, 0, 0, 0, 0, 0, 0, 0, 0, 0, 0, 0, 0, 0, 0, 0, 0, 0,\n",
       "       0, 0, 0, 0, 0, 0, 0, 0, 0, 0, 0, 0, 0, 0, 0, 0, 0, 0, 0, 0, 0, 0,\n",
       "       0, 0, 0, 0, 1, 1, 1, 1, 1, 1, 1, 1, 1, 1, 1, 1, 1, 1, 1, 1, 1, 1,\n",
       "       1, 1])"
      ]
     },
     "execution_count": 26,
     "metadata": {},
     "output_type": "execute_result"
    }
   ],
   "source": [
    "predictor.predict(AnomalyDataModel(X_test))"
   ]
  },
  {
   "cell_type": "code",
   "execution_count": 27,
   "id": "ae8f0f0f-62e9-4cb7-b97f-e5f4cf14f8e2",
   "metadata": {},
   "outputs": [
    {
     "data": {
      "text/plain": [
       "SliceableDeque([array([-0.2579304 , -0.2033623 , -0.60020724, -0.37128163, -0.29644007,\n",
       "                        0.17134566, -0.27607599,  0.60075959,  0.01152652, -0.62558516,\n",
       "                        0.01900286, -0.4342206 , -0.65187732, -0.43412887, -0.45930062,\n",
       "                       -0.71749088,  0.11707693, -0.70304796, -0.55199273, -0.29509767,\n",
       "                       -0.35169524,  0.06788269, -0.63321342, -0.6136166 ,  0.3874584 ,\n",
       "                       -0.57716474, -0.61666826, -0.62701222, -0.60576206, -0.70878643,\n",
       "                        0.01341791, -0.64451515,  0.12169867, -0.6879473 , -0.66956145,\n",
       "                       -0.75840476, -0.48480403, -0.7566398 ,  0.39273167, -0.16406513,\n",
       "                       -0.22008334, -0.40871189, -0.47304236,  1.25717918, -0.7301707 ,\n",
       "                       -0.26234363, -0.25625351, -0.60288501,  0.69831863, -0.73258549,\n",
       "                       -0.15331944, -0.1844974 , -0.51254431, -0.7059928 , -0.38890421,\n",
       "                       -0.63247201, -0.76624797, -0.7480505 , -0.6745101 , -0.36889416,\n",
       "                       -0.77218315,  0.65383001, -0.54658197, -0.6407697 ,  0.27911554,\n",
       "                        1.78820241,  0.13906189, -0.72243723, -0.6886519 , -0.47182378,\n",
       "                        0.09475881, -0.75268422, -0.28719157, -0.70121816, -0.77885471,\n",
       "                       -0.54207556,  0.27818439, -0.6901636 , -0.4644138 , -0.64185206,\n",
       "                       -0.35239236, -0.67998093, -0.26291326,  0.17317597, -0.57338388,\n",
       "                       -0.56971702,  0.04277673,  1.1217708 , -0.5859652 , -0.40913694,\n",
       "                       -0.12565128, -0.33358684,  0.03783385, -0.74436722, -0.71167056,\n",
       "                       -0.72034861, -0.33841503, -0.68763749,  0.46836493,  0.00422128,\n",
       "                       -0.22030327,  0.66104433, -0.6802446 , -0.71072967, -0.7413441 ,\n",
       "                       -0.06372973, -0.43491019, -0.39135366, -0.4235532 ,  0.52988731,\n",
       "                       -0.63667399, -0.41629839,  0.55488226, -0.71196559,  0.17395043,\n",
       "                       -0.47204121, -0.57766104, -0.61394889,  0.47715878, -0.5072582 ,\n",
       "                        0.30273797,  0.92753869,  0.17358314,  0.63880682, -0.69566532,\n",
       "                        0.60177279,  0.30154933, -0.52499955, -0.68824637,  0.55624857,\n",
       "                       -0.53262368, -0.50186398, -0.34324088, -0.31055636, -0.47675638,\n",
       "                       -0.28750908, -0.5053895 , -0.59130827,  0.27541932, -0.72896671,\n",
       "                       -0.51443251, -0.34571939, -0.46166574, -0.47301238, -0.57270006,\n",
       "                       -0.32145186, -0.67252365, -0.50131131,  0.74032869, -0.70623058,\n",
       "                       -0.6369211 , -0.7510675 , -0.24170252,  0.58498543, -0.52269871,\n",
       "                       -0.44458584,  0.31220629, -0.73474596, -0.75419096, -0.47067623,\n",
       "                       -0.61344112,  0.29010062, -0.70353312, -0.17032567,  0.89437181,\n",
       "                        0.1487609 , -0.50912574, -0.6075406 , -0.5449475 , -0.69980161,\n",
       "                       -0.42901866, -0.69786478,  0.52173613, -0.09895225, -0.34104112,\n",
       "                       -0.32300857, -0.73298129, -0.43616058, -0.67575029, -0.68134469,\n",
       "                        2.84935773,  2.27198641,  2.7458261 ,  1.83298806,  2.87468978,\n",
       "                        2.89510624,  2.56904796,  2.60677833,  2.75229145,  1.87397232,\n",
       "                        2.97770545,  3.16646183,  2.72528805,  2.9096271 ,  2.00906869,\n",
       "                        3.05116954,  2.61145563,  2.65956946,  2.81460914,  2.77132443])])"
      ]
     },
     "execution_count": 27,
     "metadata": {},
     "output_type": "execute_result"
    }
   ],
   "source": [
    "predictor._cal_anomaly_score(AnomalyDataModel(X_test))"
   ]
  },
  {
   "cell_type": "markdown",
   "id": "d8eb4e17-d2f1-41b8-b385-82c9821c8e17",
   "metadata": {},
   "source": [
    "### combination usage"
   ]
  },
  {
   "cell_type": "code",
   "execution_count": 22,
   "id": "2160dcd6-347e-4565-8869-ef90086ccea2",
   "metadata": {},
   "outputs": [],
   "source": [
    "predictor = AnomalyPredictor(detector.clf_models, \n",
    "                            other_config={'standard_scaler': predictor.misc_container['standard_scaler'],\n",
    "                                         'combination_config': {'n_buckets': 3}\n",
    "                                         },\n",
    "                            combination_method='moa')"
   ]
  },
  {
   "cell_type": "code",
   "execution_count": 23,
   "id": "8a0ee464-00ab-4a4e-8d2a-64185b8a6f3e",
   "metadata": {},
   "outputs": [
    {
     "data": {
      "text/plain": [
       "array([0, 0, 0, 0, 0, 0, 0, 0, 0, 0, 0, 0, 0, 0, 0, 0, 0, 0, 0, 0, 0, 0,\n",
       "       0, 0, 0, 0, 0, 0, 0, 0, 0, 0, 0, 0, 0, 0, 0, 0, 0, 0, 0, 0, 0, 0,\n",
       "       0, 0, 0, 0, 0, 0, 0, 0, 0, 0, 0, 0, 0, 0, 0, 0, 0, 0, 0, 0, 0, 0,\n",
       "       0, 0, 0, 0, 0, 0, 0, 0, 0, 0, 0, 0, 0, 0, 0, 0, 0, 0, 0, 0, 0, 0,\n",
       "       0, 0, 0, 0, 0, 0, 0, 0, 0, 0, 0, 0, 0, 0, 0, 0, 0, 0, 0, 0, 0, 0,\n",
       "       0, 0, 0, 0, 0, 0, 0, 0, 0, 0, 0, 0, 0, 0, 0, 0, 0, 0, 0, 0, 0, 0,\n",
       "       0, 0, 0, 0, 0, 0, 0, 0, 0, 0, 0, 0, 0, 0, 0, 0, 0, 0, 0, 0, 0, 0,\n",
       "       0, 0, 0, 0, 0, 0, 0, 0, 0, 0, 0, 0, 0, 0, 0, 0, 0, 0, 0, 0, 0, 0,\n",
       "       0, 0, 0, 0, 1, 1, 1, 1, 1, 1, 1, 1, 1, 1, 1, 1, 1, 1, 1, 1, 1, 1,\n",
       "       1, 1])"
      ]
     },
     "execution_count": 23,
     "metadata": {},
     "output_type": "execute_result"
    }
   ],
   "source": [
    "predictor.predict(AnomalyDataModel(X_test))"
   ]
  },
  {
   "cell_type": "code",
   "execution_count": 24,
   "id": "6382b0ef-bdbb-422f-9a47-23b17398f8e9",
   "metadata": {},
   "outputs": [
    {
     "data": {
      "text/plain": [
       "SliceableDeque([array([-0.22943703, -0.15566062, -0.59389379, -0.34861683, -0.2609089 ,\n",
       "                        0.21917932, -0.25417488,  0.68183493,  0.05460252, -0.54259298,\n",
       "                        0.08942245, -0.40507084, -0.58488718, -0.42647511, -0.41727106,\n",
       "                       -0.69145264,  0.12843105, -0.67881234, -0.51262903, -0.27661715,\n",
       "                       -0.31288599,  0.10497459, -0.61799891, -0.55616585,  0.46751829,\n",
       "                       -0.55097034, -0.60915935, -0.59473687, -0.58433867, -0.69382992,\n",
       "                        0.09133044, -0.62165315,  0.12416252, -0.63408675, -0.63443704,\n",
       "                       -0.7517994 , -0.43445055, -0.72326861,  0.45544832, -0.10701349,\n",
       "                       -0.1970593 , -0.38320331, -0.43166401,  1.34789531, -0.68340098,\n",
       "                       -0.22836709, -0.22191875, -0.54764801,  0.90385283, -0.71691832,\n",
       "                       -0.12838106, -0.14321366, -0.46968939, -0.66011958, -0.34171868,\n",
       "                       -0.58028089, -0.74635034, -0.74007614, -0.62991873, -0.36309194,\n",
       "                       -0.76852798,  0.77092126, -0.50767486, -0.55746079,  0.30037393,\n",
       "                        1.90477806,  0.23221139, -0.70034936, -0.65591311, -0.42725424,\n",
       "                        0.15364704, -0.72834093, -0.18334517, -0.66044491, -0.7574273 ,\n",
       "                       -0.52885821,  0.38670684, -0.6626585 , -0.42964973, -0.61164249,\n",
       "                       -0.33023739, -0.61837948, -0.19126565,  0.24407549, -0.56234117,\n",
       "                       -0.52555982,  0.09222497,  1.29745627, -0.55693877, -0.39836894,\n",
       "                       -0.02948786, -0.28493746,  0.11565592, -0.73165026, -0.69315964,\n",
       "                       -0.68439868, -0.2858494 , -0.67410879,  0.51827552,  0.08642873,\n",
       "                       -0.20435367,  0.70625847, -0.59641853, -0.6826661 , -0.73334399,\n",
       "                       -0.04084936, -0.405882  , -0.35450739, -0.39758564,  0.66088555,\n",
       "                       -0.60030625, -0.37600825,  0.64773594, -0.66581377,  0.19670721,\n",
       "                       -0.44810325, -0.52568409, -0.56879229,  0.60166182, -0.49292849,\n",
       "                        0.36358604,  1.14328727,  0.19283823,  0.80831886, -0.6630718 ,\n",
       "                        0.65453193,  0.43447135, -0.49932717, -0.65675538,  0.71644531,\n",
       "                       -0.49760016, -0.49244858, -0.24172982, -0.24117672, -0.46828269,\n",
       "                       -0.22941702, -0.46887078, -0.53831706,  0.37512317, -0.68781186,\n",
       "                       -0.49865141, -0.30366559, -0.41363802, -0.44934566, -0.55300314,\n",
       "                       -0.2347826 , -0.65532941, -0.4733407 ,  0.7708114 , -0.69669378,\n",
       "                       -0.62378162, -0.74056384, -0.19084951,  0.60936881, -0.48777592,\n",
       "                       -0.39962035,  0.38519282, -0.71769705, -0.72871634, -0.45588763,\n",
       "                       -0.55919578,  0.32120933, -0.66330693, -0.11107132,  0.93875479,\n",
       "                        0.19088186, -0.46552553, -0.57720497, -0.5089256 , -0.66542706,\n",
       "                       -0.39978461, -0.67920667,  0.60982102, -0.06635237, -0.31513081,\n",
       "                       -0.30984863, -0.67636169, -0.38568783, -0.6157779 , -0.60464357,\n",
       "                        2.89084377,  2.35188302,  2.78025921,  1.88882048,  2.93339475,\n",
       "                        2.95863146,  2.59823801,  2.63268689,  2.84093472,  1.95408426,\n",
       "                        3.01094148,  3.24604793,  2.77065731,  2.94164805,  2.05458497,\n",
       "                        3.13577293,  2.68908193,  2.68749232,  2.84086964,  2.84865205])])"
      ]
     },
     "execution_count": 24,
     "metadata": {},
     "output_type": "execute_result"
    }
   ],
   "source": [
    "predictor._cal_anomaly_score(AnomalyDataModel(X_test))"
   ]
  },
  {
   "cell_type": "code",
   "execution_count": null,
   "id": "ab4882b4-c67b-4b41-8210-2f7e07316bea",
   "metadata": {},
   "outputs": [],
   "source": []
  }
 ],
 "metadata": {
  "kernelspec": {
   "display_name": "pyemits-BM0BzTys-py3.8",
   "language": "python",
   "name": "pyemits-bm0bztys-py3.8"
  },
  "language_info": {
   "codemirror_mode": {
    "name": "ipython",
    "version": 3
   },
   "file_extension": ".py",
   "mimetype": "text/x-python",
   "name": "python",
   "nbconvert_exporter": "python",
   "pygments_lexer": "ipython3",
   "version": "3.8.3"
  }
 },
 "nbformat": 4,
 "nbformat_minor": 5
}
