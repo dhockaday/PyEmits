{
 "cells": [
  {
   "cell_type": "code",
   "execution_count": 1,
   "id": "264db7f6-a580-403d-a237-af6eddc1ab53",
   "metadata": {},
   "outputs": [],
   "source": [
    "import os\n",
    "import pandas as pd\n",
    "import numpy as np "
   ]
  },
  {
   "cell_type": "code",
   "execution_count": 2,
   "id": "72882c6b-e2b9-454e-ac08-3461cc6d1727",
   "metadata": {},
   "outputs": [
    {
     "data": {
      "text/plain": [
       "'/Users/kinshingwong/Documents/GitHub/PyEmits/examples'"
      ]
     },
     "execution_count": 2,
     "metadata": {},
     "output_type": "execute_result"
    }
   ],
   "source": [
    "os.getcwd()"
   ]
  },
  {
   "cell_type": "code",
   "execution_count": 3,
   "id": "0007bb3c-3c6e-454e-b96a-6eeaa1ba8fc5",
   "metadata": {},
   "outputs": [],
   "source": [
    "os.chdir('/Users/kinshingwong/Documents/GitHub/PyEmits')"
   ]
  },
  {
   "cell_type": "code",
   "execution_count": 4,
   "id": "4cb00710-76f4-41e3-bde1-8cb68e8cb35e",
   "metadata": {},
   "outputs": [
    {
     "name": "stderr",
     "output_type": "stream",
     "text": [
      "2021-10-21 20:06:27.964623: I tensorflow/core/platform/cpu_feature_guard.cc:142] This TensorFlow binary is optimized with oneAPI Deep Neural Network Library (oneDNN) to use the following CPU instructions in performance-critical operations:  AVX2 FMA\n",
      "To enable them in other operations, rebuild TensorFlow with the appropriate compiler flags.\n"
     ]
    }
   ],
   "source": [
    "from pyemits.core.ml.regression.trainer import RegTrainer, RegressionDataModel, SliceableDeque, ParallelRegTrainer, KFoldCVTrainer, MultiOutputRegTrainer\n",
    "from pyemits.core.ml.regression.predictor import RegPredictor\n",
    "from pyemits.core.ml.regression.nn import KerasWrapper\n",
    "from pyemits.core.preprocessing.splitting import extract_tensor_data, SlidingWindowSplitter\n",
    "from pyemits.core.preprocessing.scaling import ForecastArrayScaling\n",
    "from pyemits.core.ml.base import save_model, load_model"
   ]
  },
  {
   "cell_type": "code",
   "execution_count": 5,
   "id": "70fafae1-d9bf-4096-8931-02be6d4f078c",
   "metadata": {},
   "outputs": [],
   "source": [
    "from pyemits.common.stats import cal_reg_metrics, RegressionMetrics\n",
    "from pyemits.core.preprocessing.scaling import ForecastArrayScaling\n",
    "from pyemits.common.utils.misc_utils import slice_iterables\n",
    "from pyemits.core.preprocessing.misc_utils import create_time_features, df_create_time_features"
   ]
  },
  {
   "cell_type": "code",
   "execution_count": 6,
   "id": "8488cf73-2ad0-4ae7-bace-782dfd5cb6af",
   "metadata": {},
   "outputs": [
    {
     "name": "stderr",
     "output_type": "stream",
     "text": [
      "2021-10-21 20:06:28.213592: I tensorflow/compiler/mlir/mlir_graph_optimization_pass.cc:185] None of the MLIR Optimization Passes are enabled (registered 2)\n"
     ]
    },
    {
     "name": "stdout",
     "output_type": "stream",
     "text": [
      "Epoch 1/10\n",
      "32/32 [==============================] - 1s 6ms/step - loss: 3348.0610 - mse: 3348.0610\n",
      "Epoch 2/10\n",
      "32/32 [==============================] - 0s 6ms/step - loss: 3339.5229 - mse: 3339.5229\n",
      "Epoch 3/10\n",
      "32/32 [==============================] - 0s 5ms/step - loss: 3332.2429 - mse: 3332.2429\n",
      "Epoch 4/10\n",
      "32/32 [==============================] - 0s 6ms/step - loss: 3325.7871 - mse: 3325.7871\n",
      "Epoch 5/10\n",
      "32/32 [==============================] - 0s 6ms/step - loss: 3319.0457 - mse: 3319.0457\n",
      "Epoch 6/10\n",
      "32/32 [==============================] - 0s 7ms/step - loss: 3312.1838 - mse: 3312.1838\n",
      "Epoch 7/10\n",
      "32/32 [==============================] - 0s 7ms/step - loss: 3305.8027 - mse: 3305.8027\n",
      "Epoch 8/10\n",
      "32/32 [==============================] - 0s 7ms/step - loss: 3299.3516 - mse: 3299.3516\n",
      "Epoch 9/10\n",
      "32/32 [==============================] - 0s 7ms/step - loss: 3293.0249 - mse: 3293.0249\n",
      "Epoch 10/10\n",
      "32/32 [==============================] - 0s 7ms/step - loss: 3286.7917 - mse: 3286.7917\n"
     ]
    }
   ],
   "source": [
    "import numpy as np\n",
    "\n",
    "from pyemits.core.ml.regression.trainer import RegTrainer, RegressionDataModel\n",
    "from pyemits.core.ml.regression.nn import KerasWrapper\n",
    "from pyemits.common.config_model import KerasSequentialConfig\n",
    "\n",
    "X = np.random.randint(1, 100, size=(1000, 10, 10))\n",
    "y = np.random.randint(1, 100, size=(1000, 4))\n",
    "\n",
    "from keras.layers import Dense, Dropout, LSTM\n",
    "from keras import Sequential\n",
    "\n",
    "keras_lstm_model = KerasWrapper(nickname='LSTM')\n",
    "config = KerasSequentialConfig(layer=[LSTM(128,\n",
    "                                           activation='softmax',\n",
    "                                           input_shape=(10, 10),\n",
    "                                           ),\n",
    "                                      Dropout(0.1),\n",
    "                                      Dense(4)],\n",
    "                               compile=dict(loss='mse', optimizer='adam', metrics=['mse']))\n",
    "\n",
    "raw_data_model = RegressionDataModel(X, y)\n",
    "trainer = RegTrainer([keras_lstm_model],\n",
    "                     [config],\n",
    "                     raw_data_model, \n",
    "                     {'fit_config' : [dict(epochs=10, batch_size=32)]})\n",
    "trainer.fit()"
   ]
  },
  {
   "cell_type": "markdown",
   "id": "2a4be222-e3ce-4fe7-bbe0-fbc772e3697a",
   "metadata": {},
   "source": [
    "# Keras Wrapper"
   ]
  },
  {
   "cell_type": "code",
   "execution_count": 6,
   "id": "73ae4b95-62e5-4446-ae4f-edf4d51299a5",
   "metadata": {},
   "outputs": [],
   "source": [
    "df = pd.read_parquet('/Users/kinshingwong/Documents/GitHub/cam-Analytics/dataAnalyticsRework/test_data/20201123 Five Sites Data/ChillerPlant_TG_OG.parquet')\n",
    "df['weekday'] = df.index.weekday"
   ]
  },
  {
   "cell_type": "code",
   "execution_count": 7,
   "id": "64b2be06-7dd9-45e9-9db3-ccdde9914059",
   "metadata": {},
   "outputs": [],
   "source": [
    "df['Qev'] = df['mw']*4.186*(df['Tchwr']-df['Tchws'])"
   ]
  },
  {
   "cell_type": "code",
   "execution_count": 9,
   "id": "23457b71-2ca3-4a31-ad8a-f972080a59d5",
   "metadata": {},
   "outputs": [],
   "source": [
    "# df['year'] = create_time_features(df.index.to_numpy(),['year'])[0]\n",
    "# df['month'] = create_time_features(df.index.to_numpy(),['month'])[0]\n",
    "# df['day'] = create_time_features(df.index.to_numpy(),['day'])[0]\n",
    "# df['hour'] = create_time_features(df.index.to_numpy(),['hour'])[0]\n",
    "# df['minutes'] = create_time_features(df.index.to_numpy(),['minutes'])[0]\n",
    "df = df_create_time_features(df)\n"
   ]
  },
  {
   "cell_type": "code",
   "execution_count": 52,
   "id": "b2dea907-4810-42c1-ba25-0351285da8d5",
   "metadata": {},
   "outputs": [],
   "source": [
    "groupby_df = df.groupby(['year','month','day','hour'], as_index=False).mean()"
   ]
  },
  {
   "cell_type": "code",
   "execution_count": 53,
   "id": "4acdb032-5b6e-4520-8bff-e999cba27298",
   "metadata": {},
   "outputs": [],
   "source": [
    "# not a strict methodology for nan handling, it will make LSTM have bad performance\n",
    "# but it just for fast demonstrating on Keras Wrapper function, performance not in my consideration\n",
    "groupby_df = groupby_df.fillna(method='ffill')"
   ]
  },
  {
   "cell_type": "code",
   "execution_count": 45,
   "id": "e439669b-f4ba-4dde-ab1a-fe162679cd86",
   "metadata": {},
   "outputs": [],
   "source": [
    "splitter = SlidingWindowSplitter(24,24)"
   ]
  },
  {
   "cell_type": "code",
   "execution_count": 54,
   "id": "e5815389-acbf-4f2d-8eee-75d719a1e3ff",
   "metadata": {},
   "outputs": [],
   "source": [
    "X, y = splitter.split(groupby_df[['Tout','Tout']].to_numpy(), groupby_df['Tout'].to_numpy())"
   ]
  },
  {
   "cell_type": "code",
   "execution_count": 55,
   "id": "2dd4f465-a9ce-4366-9af9-7f2fc357fc18",
   "metadata": {},
   "outputs": [],
   "source": [
    "X = np.array(X)\n",
    "y = np.array(y)"
   ]
  },
  {
   "cell_type": "code",
   "execution_count": 32,
   "id": "a7239b8e-4e34-4ce8-a0f1-5e7906bab9cd",
   "metadata": {},
   "outputs": [
    {
     "name": "stderr",
     "output_type": "stream",
     "text": [
      "2021-10-21 13:59:53.497213: I tensorflow/core/platform/cpu_feature_guard.cc:142] This TensorFlow binary is optimized with oneAPI Deep Neural Network Library (oneDNN) to use the following CPU instructions in performance-critical operations:  AVX2 FMA\n",
      "To enable them in other operations, rebuild TensorFlow with the appropriate compiler flags.\n"
     ]
    }
   ],
   "source": [
    "keras_wrapper = KerasWrapper.from_simple_lstm_model((24,2), 24)"
   ]
  },
  {
   "cell_type": "code",
   "execution_count": 65,
   "id": "c788105d-fb12-449d-9e47-cdf674392770",
   "metadata": {},
   "outputs": [],
   "source": [
    "trainer = RegTrainer([keras_wrapper],[None],RegressionDataModel(X,y), {'fit_config':[dict(epochs=20,batch_size=32, validation_split=0.2)]})\n"
   ]
  },
  {
   "cell_type": "code",
   "execution_count": 66,
   "id": "a96f1854-02c9-498a-bbe8-69e5cf34eb44",
   "metadata": {},
   "outputs": [
    {
     "name": "stdout",
     "output_type": "stream",
     "text": [
      "Epoch 1/20\n",
      "978/978 [==============================] - 12s 12ms/step - loss: 509.8878 - mse: 509.8878 - val_loss: 476.4556 - val_mse: 476.4556\n",
      "Epoch 2/20\n",
      "978/978 [==============================] - 11s 11ms/step - loss: 432.8757 - mse: 432.8757 - val_loss: 402.4171 - val_mse: 402.4171\n",
      "Epoch 3/20\n",
      "978/978 [==============================] - 11s 12ms/step - loss: 363.7594 - mse: 363.7594 - val_loss: 336.0959 - val_mse: 336.0959\n",
      "Epoch 4/20\n",
      "978/978 [==============================] - 11s 12ms/step - loss: 303.4343 - mse: 303.4343 - val_loss: 277.1541 - val_mse: 277.1541\n",
      "Epoch 5/20\n",
      "978/978 [==============================] - 11s 11ms/step - loss: 249.1144 - mse: 249.1144 - val_loss: 225.1037 - val_mse: 225.1037\n",
      "Epoch 6/20\n",
      "978/978 [==============================] - 13s 13ms/step - loss: 201.9685 - mse: 201.9685 - val_loss: 179.7179 - val_mse: 179.7179\n",
      "Epoch 7/20\n",
      "978/978 [==============================] - 13s 14ms/step - loss: 162.3285 - mse: 162.3285 - val_loss: 140.9066 - val_mse: 140.9066\n",
      "Epoch 8/20\n",
      "978/978 [==============================] - 14s 14ms/step - loss: 127.3994 - mse: 127.3994 - val_loss: 108.2983 - val_mse: 108.2983\n",
      "Epoch 9/20\n",
      "978/978 [==============================] - 14s 14ms/step - loss: 100.1610 - mse: 100.1610 - val_loss: 81.7506 - val_mse: 81.7506\n",
      "Epoch 10/20\n",
      "978/978 [==============================] - 13s 14ms/step - loss: 78.4761 - mse: 78.4761 - val_loss: 60.3129 - val_mse: 60.3129\n",
      "Epoch 11/20\n",
      "978/978 [==============================] - 13s 13ms/step - loss: 60.9237 - mse: 60.9237 - val_loss: 43.4896 - val_mse: 43.4896\n",
      "Epoch 12/20\n",
      "978/978 [==============================] - 13s 13ms/step - loss: 46.4497 - mse: 46.4497 - val_loss: 30.4343 - val_mse: 30.4343\n",
      "Epoch 13/20\n",
      "978/978 [==============================] - 12s 12ms/step - loss: 34.9998 - mse: 34.9998 - val_loss: 21.0028 - val_mse: 21.0028\n",
      "Epoch 14/20\n",
      "978/978 [==============================] - 12s 12ms/step - loss: 27.9184 - mse: 27.9184 - val_loss: 14.8357 - val_mse: 14.8357\n",
      "Epoch 15/20\n",
      "978/978 [==============================] - 12s 12ms/step - loss: 22.6037 - mse: 22.6037 - val_loss: 10.1122 - val_mse: 10.1122\n",
      "Epoch 16/20\n",
      "978/978 [==============================] - 12s 12ms/step - loss: 18.6478 - mse: 18.6478 - val_loss: 6.7288 - val_mse: 6.7288\n",
      "Epoch 17/20\n",
      "978/978 [==============================] - 12s 12ms/step - loss: 15.6126 - mse: 15.6126 - val_loss: 6.2521 - val_mse: 6.2521\n",
      "Epoch 18/20\n",
      "978/978 [==============================] - 13s 13ms/step - loss: 13.2357 - mse: 13.2357 - val_loss: 5.8256 - val_mse: 5.8256\n",
      "Epoch 19/20\n",
      "978/978 [==============================] - 11s 12ms/step - loss: 10.7602 - mse: 10.7602 - val_loss: 4.9215 - val_mse: 4.9215\n",
      "Epoch 20/20\n",
      "978/978 [==============================] - 11s 12ms/step - loss: 8.8747 - mse: 8.8747 - val_loss: 4.6413 - val_mse: 4.6413\n"
     ]
    }
   ],
   "source": [
    "trainer.fit()"
   ]
  },
  {
   "cell_type": "code",
   "execution_count": 67,
   "id": "71463df5-2255-45b5-b4ad-8cd5f8a01ca5",
   "metadata": {},
   "outputs": [],
   "source": [
    "predictor = RegPredictor(trainer.clf_models, 'RegTrainer')"
   ]
  },
  {
   "cell_type": "code",
   "execution_count": 71,
   "id": "0d45ed16-8421-4e13-a9e9-4998f5ad8d41",
   "metadata": {},
   "outputs": [
    {
     "data": {
      "text/plain": [
       "SliceableDeque([array([[24.67835 , 24.663052, 24.666267, 24.660236, 24.6636  , 24.660267,\n",
       "                        24.671782, 24.657413, 24.66935 , 24.661285, 24.655651, 24.664669,\n",
       "                        24.650373, 24.650177, 24.65356 , 24.653622, 24.639584, 24.650993,\n",
       "                        24.65087 , 24.659151, 24.66613 , 24.66764 , 24.672745, 24.663929],\n",
       "                       [24.386086, 24.370455, 24.373924, 24.36892 , 24.372303, 24.370428,\n",
       "                        24.383343, 24.36659 , 24.382332, 24.373465, 24.36597 , 24.378094,\n",
       "                        24.360897, 24.361399, 24.364697, 24.365307, 24.34899 , 24.362242,\n",
       "                        24.362844, 24.370787, 24.378794, 24.379452, 24.385101, 24.373447],\n",
       "                       [24.120424, 24.10404 , 24.107998, 24.103556, 24.107367, 24.106346,\n",
       "                        24.120699, 24.102062, 24.12062 , 24.11095 , 24.102224, 24.11656 ,\n",
       "                        24.097101, 24.098137, 24.101667, 24.102665, 24.08451 , 24.09934 ,\n",
       "                        24.100227, 24.10819 , 24.11686 , 24.116829, 24.12292 , 24.108948],\n",
       "                       [23.983524, 23.966446, 23.970871, 23.966656, 23.970943, 23.970299,\n",
       "                        23.98571 , 23.965906, 23.986088, 23.975851, 23.966478, 23.982048,\n",
       "                        23.961208, 23.962536, 23.966326, 23.967505, 23.948187, 23.96404 ,\n",
       "                        23.964973, 23.973125, 23.982185, 23.9818  , 23.988245, 23.972916],\n",
       "                       [23.853806, 23.836056, 23.8409  , 23.836744, 23.841513, 23.84101 ,\n",
       "                        23.857273, 23.836674, 23.857906, 23.847214, 23.837486, 23.853817,\n",
       "                        23.832043, 23.83358 , 23.837673, 23.838978, 23.818855, 23.835464,\n",
       "                        23.836308, 23.84468 , 23.853926, 23.853252, 23.859905, 23.843557]],\n",
       "                      dtype=float32)])"
      ]
     },
     "execution_count": 71,
     "metadata": {},
     "output_type": "execute_result"
    }
   ],
   "source": [
    "predictor.predict(RegressionDataModel(X[-100:-95]))"
   ]
  },
  {
   "cell_type": "code",
   "execution_count": 74,
   "id": "f055cf6f-1cbe-4032-834e-c432d12e0237",
   "metadata": {},
   "outputs": [],
   "source": [
    "r = predictor.predict(RegressionDataModel(X))[0]"
   ]
  },
  {
   "cell_type": "code",
   "execution_count": 77,
   "id": "918d2a0e-f627-4737-a8c5-b3f20e26934d",
   "metadata": {},
   "outputs": [],
   "source": [
    "rr = pd.DataFrame({'prediction':r.ravel(), 'original': y.ravel()})"
   ]
  },
  {
   "cell_type": "code",
   "execution_count": null,
   "id": "d6e302ee-1f1e-4bc4-b088-7d4b3a0b207b",
   "metadata": {},
   "outputs": [],
   "source": []
  }
 ],
 "metadata": {
  "kernelspec": {
   "display_name": "pyemits-BM0BzTys-py3.8",
   "language": "python",
   "name": "pyemits-bm0bztys-py3.8"
  },
  "language_info": {
   "codemirror_mode": {
    "name": "ipython",
    "version": 3
   },
   "file_extension": ".py",
   "mimetype": "text/x-python",
   "name": "python",
   "nbconvert_exporter": "python",
   "pygments_lexer": "ipython3",
   "version": "3.8.3"
  }
 },
 "nbformat": 4,
 "nbformat_minor": 5
}
