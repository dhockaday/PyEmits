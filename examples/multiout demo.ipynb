{
 "cells": [
  {
   "cell_type": "code",
   "execution_count": 2,
   "id": "8a97e8e6-0598-4976-90fa-93826691d016",
   "metadata": {},
   "outputs": [],
   "source": [
    "import os\n",
    "os.chdir('..')"
   ]
  },
  {
   "cell_type": "code",
   "execution_count": null,
   "id": "f4b8e056-2d27-45aa-ae70-222c507c251f",
   "metadata": {},
   "outputs": [],
   "source": []
  },
  {
   "cell_type": "code",
   "execution_count": 22,
   "id": "72f051d3-d924-4b62-85ce-25f68fee7241",
   "metadata": {},
   "outputs": [],
   "source": [
    "import numpy as np \n",
    "\n",
    "from pyemits.core.ml.regression.trainer import RegressionDataModel, MultiOutputRegTrainer\n",
    "from pyemits.core.preprocessing.splitting import SlidingWindowSplitter\n",
    "\n",
    "X = np.random.randint(1, 100, size=(10000, 1))\n",
    "y = np.random.randint(1, 100, size=(10000, 1))\n",
    "\n",
    "splitter = SlidingWindowSplitter(24,24,ravel=True)\n",
    "X, y = splitter.split(X, y)\n",
    "\n",
    "raw_data_model = RegressionDataModel(X,y)\n",
    "trainer = MultiOutputRegTrainer(['XGBoost'], [None], raw_data_model)\n",
    "trainer.fit()"
   ]
  },
  {
   "cell_type": "code",
   "execution_count": 20,
   "id": "46f2fffb-219c-445b-88c2-1784bd745f87",
   "metadata": {},
   "outputs": [
    {
     "data": {
      "text/plain": [
       "array([[[66],\n",
       "        [47],\n",
       "        [82],\n",
       "        ...,\n",
       "        [70],\n",
       "        [ 8],\n",
       "        [40]],\n",
       "\n",
       "       [[47],\n",
       "        [82],\n",
       "        [16],\n",
       "        ...,\n",
       "        [ 8],\n",
       "        [40],\n",
       "        [93]],\n",
       "\n",
       "       [[82],\n",
       "        [16],\n",
       "        [62],\n",
       "        ...,\n",
       "        [40],\n",
       "        [93],\n",
       "        [20]],\n",
       "\n",
       "       ...,\n",
       "\n",
       "       [[69],\n",
       "        [57],\n",
       "        [69],\n",
       "        ...,\n",
       "        [93],\n",
       "        [90],\n",
       "        [ 6]],\n",
       "\n",
       "       [[57],\n",
       "        [69],\n",
       "        [83],\n",
       "        ...,\n",
       "        [90],\n",
       "        [ 6],\n",
       "        [60]],\n",
       "\n",
       "       [[69],\n",
       "        [83],\n",
       "        [58],\n",
       "        ...,\n",
       "        [ 6],\n",
       "        [60],\n",
       "        [49]]])"
      ]
     },
     "execution_count": 20,
     "metadata": {},
     "output_type": "execute_result"
    }
   ],
   "source": [
    "X"
   ]
  },
  {
   "cell_type": "code",
   "execution_count": null,
   "id": "3dc0bc77-e7dd-45b4-9752-aca12ab3bb6b",
   "metadata": {},
   "outputs": [],
   "source": []
  }
 ],
 "metadata": {
  "kernelspec": {
   "display_name": "pyemits-BM0BzTys-py3.8",
   "language": "python",
   "name": "pyemits-bm0bztys-py3.8"
  },
  "language_info": {
   "codemirror_mode": {
    "name": "ipython",
    "version": 3
   },
   "file_extension": ".py",
   "mimetype": "text/x-python",
   "name": "python",
   "nbconvert_exporter": "python",
   "pygments_lexer": "ipython3",
   "version": "3.8.3"
  }
 },
 "nbformat": 4,
 "nbformat_minor": 5
}
